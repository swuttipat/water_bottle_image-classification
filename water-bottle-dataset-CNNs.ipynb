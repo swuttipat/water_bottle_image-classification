{
 "cells": [
  {
   "cell_type": "markdown",
   "id": "42dac4af",
   "metadata": {},
   "source": [
    "<a id='back_to_top'></a>\n",
    "# Water Bottle Image Classification Dataset\n",
    "\"Classifying Water Bottle Images Based on Water Level Using Machine Learning\""
   ]
  },
  {
   "cell_type": "markdown",
   "id": "919635fd",
   "metadata": {},
   "source": [
    "**Created By**: Wuttipat S. <br>\n",
    "**Created Date**: 2023-02-10 <br>\n",
    "**Status**: <span style=\"color:red\">Ongoing</span>"
   ]
  },
  {
   "cell_type": "markdown",
   "id": "3944060e",
   "metadata": {},
   "source": [
    "# Table of contents\n",
    "\n",
    "## [Introduction](#introduction)\n",
    "- [Project Objective](#project_objective)\n",
    "- [Dataset Description](#dataset_description)\n",
    "- [About this directory](#about_this_directory) \n",
    "\n",
    "### [Importing Data from the Directory](#load_dataset) \n",
    "### [Data Preprocessing](#data_preprocessing) \n",
    "### [Machine Learning Model](#machine_learning_model) \n",
    "### [Note](#note)"
   ]
  },
  {
   "cell_type": "markdown",
   "id": "014a7e5b",
   "metadata": {},
   "source": [
    "<a id='introduction'></a>\n",
    "# Introduction"
   ]
  },
  {
   "cell_type": "markdown",
   "id": "58e0090a",
   "metadata": {},
   "source": [
    "<a id='project_objective'></a>\n",
    "## Project Objective: \n",
    "The main objective of this project is to develop a machine learning model that can accurately classify water bottle images based on their water levels. The model will be trained on a dataset of water bottle images, with each image being labeled as Full water level, Half water level, or Overflowing. The goal is to develop a model that can accurately classify a given water bottle image based on its water level."
   ]
  },
  {
   "cell_type": "markdown",
   "id": "7bc053ef",
   "metadata": {},
   "source": [
    "<a id='dataset_description'></a>\n",
    "## Dataset Description: \n",
    "The dataset consists of water bottle images that have been classified based on the level of water inside the bottle. There are three categories of images: Full water level, Half water level, and Overflowing. Each category contains a number of images of water bottles with the corresponding water level. The purpose of the dataset is to be used for an image classification problem, where a machine learning model is trained to classify the water level of a given water bottle image.\n",
    "\n",
    "The dataset is intended to be used for training and testing a machine learning model for image classification. The model will be trained on the provided images, with each image being labeled as either Full water level, Half water level, or Overflowing. The goal of the model is to accurately classify a given water bottle image based on its water level.\n",
    "\n",
    "The dataset consists of a number of water bottle images, each of which has been classified based on the water level inside the bottle. The images in the Full water level category show water bottles with the maximum possible amount of water inside, while the images in the Half water level category show water bottles with roughly half the maximum amount of water inside. The images in the Overflowing category show water bottles with more water inside than the maximum capacity of the bottle, resulting in water spilling out.\n",
    "\n",
    "The dataset is likely to be useful for a variety of applications, such as developing automated systems for monitoring and managing water levels in containers or for use in a general image classification problem. The dataset may also be useful for research purposes, as it allows for the development and testing of machine learning models for image classification tasks."
   ]
  },
  {
   "cell_type": "markdown",
   "id": "1cb8ba8d",
   "metadata": {},
   "source": [
    "<a id='about_this_directory'></a>\n",
    "### About this directory\n",
    "\"This folder contains 308 images of water bottles with full water levels. The images show a variety of water bottle sizes and shapes, and are captured from a range of angles. The water bottles are made of plastic and are in good condition. These images could be useful for training a machine learning model to recognize full water levels in water bottles.\""
   ]
  },
  {
   "cell_type": "markdown",
   "id": "93955545",
   "metadata": {},
   "source": [
    "<a id='load_dataset'></a>\n",
    "### Importing Data from the Directory\n",
    "We will start by importing the data from the directory. We will use the OS module in python to access the directory and its sub-directories. We will then use the OpenCV library to read the image files and convert them into arrays that can be processed by the machine learning model."
   ]
  },
  {
   "cell_type": "code",
   "execution_count": 1,
   "id": "a5c4bc31",
   "metadata": {},
   "outputs": [],
   "source": [
    "import os\n",
    "import cv2\n",
    "import numpy as np\n",
    "\n",
    "data = []\n",
    "labels = []\n",
    "\n",
    "# Access the directory and sub-directories and so on\n",
    "directory = \"./water-bottle-dataset\"\n",
    "\n",
    "for sub_folder in os.listdir(directory):\n",
    "    sub_folder_path = os.path.join(directory, sub_folder)\n",
    "    for sub_sub_folder in os.listdir(sub_folder_path):\n",
    "        sub_sub_folder_path = os.path.join(sub_folder_path, sub_sub_folder)\n",
    "        for image_file in os.listdir(sub_sub_folder_path):\n",
    "            if image_file.endswith(\".jpeg\"):\n",
    "                image_path = os.path.join(sub_sub_folder_path, image_file)\n",
    "                # Read the image using OpenCV\n",
    "                image = cv2.imread(image_path) #the decoded images stored in **B G R** order.\n",
    "                # Resize the image to a standard size\n",
    "                image = cv2.resize(image, (224, 224))\n",
    "                # Append the image to the data list\n",
    "                data.append(image)\n",
    "                # Append the label to the labels list\n",
    "                labels.append(sub_folder)\n",
    "\n",
    "# Convert the data and labels lists into numpy arrays\n",
    "data = np.array(data)\n",
    "labels = np.array(labels)\n"
   ]
  },
  {
   "cell_type": "markdown",
   "id": "6ff97770",
   "metadata": {},
   "source": [
    "<a id='data_preprocessing'></a>\n",
    "### Cleaning and Data Preprocessing\n",
    "Now that we have imported the data, we need to clean and preprocess the data so that it can be used to train the machine learning model. The following preprocessing steps will be performed:\n",
    "\n",
    "1. Normalizing the pixel values to a range between 0 and 1\n",
    "2. Converting the labels into one-hot encoded arrays"
   ]
  },
  {
   "cell_type": "code",
   "execution_count": 2,
   "id": "a9aa29f6",
   "metadata": {},
   "outputs": [],
   "source": [
    "# Normalize the pixel values to a range between 0 and 1\n",
    "data = data / 255.0\n",
    "\n",
    "# Preprocess the input data\n",
    "#data = np.reshape(data, (data.shape[0], 224, 224, 3))\n",
    "\n",
    "# Convert the labels into one-hot encoded arrays\n",
    "labels_one_hot = np.zeros((labels.shape[0], 3))\n",
    "\n",
    "for i, label in enumerate(labels):\n",
    "    if label == \"Full  Water level\":\n",
    "        labels_one_hot[i, 0] = 1\n",
    "    elif label == \"Half Water Level\":\n",
    "        labels_one_hot[i, 1] = 1\n",
    "    else:\n",
    "        labels_one_hot[i, 2] = 1"
   ]
  },
  {
   "cell_type": "code",
   "execution_count": 3,
   "id": "5fd7c699",
   "metadata": {},
   "outputs": [
    {
     "data": {
      "text/plain": [
       "(429, 224, 224, 3)"
      ]
     },
     "execution_count": 3,
     "metadata": {},
     "output_type": "execute_result"
    }
   ],
   "source": [
    "data.shape"
   ]
  },
  {
   "cell_type": "markdown",
   "id": "64c23d26",
   "metadata": {},
   "source": [
    "#### Show a sample of images from the dataset"
   ]
  },
  {
   "cell_type": "code",
   "execution_count": 13,
   "id": "800faeb4",
   "metadata": {},
   "outputs": [
    {
     "data": {
      "image/png": "[encoded data removed]",
      "text/plain": [
       "<Figure size 432x288 with 1 Axes>"
      ]
     },
     "metadata": {
      "needs_background": "light"
     },
     "output_type": "display_data"
    },
    {
     "name": "stdout",
     "output_type": "stream",
     "text": [
      "Full  Water level\n"
     ]
    }
   ],
   "source": [
    "import matplotlib.pyplot as plt\n",
    "\n",
    "img = data[55]\n",
    "plt.imshow(img)\n",
    "plt.axis('off')\n",
    "plt.show()\n",
    "print(labels[55])"
   ]
  },
  {
   "cell_type": "markdown",
   "id": "fc136379",
   "metadata": {},
   "source": [
    "<a id='machine_learning_model'></a>\n",
    "### Machine Learning Model\n",
    "Finally, we will build, train, and evaluate machine learning models for the image classification problem. We will use the Keras library in Python to build and train the models."
   ]
  },
  {
   "cell_type": "code",
   "execution_count": 7,
   "id": "2e784394",
   "metadata": {},
   "outputs": [
    {
     "name": "stdout",
     "output_type": "stream",
     "text": [
      "Epoch 1/15\n",
      "11/11 [==============================] - 15s 1s/step - loss: 0.6971 - accuracy: 0.6793 - val_loss: 1.1359 - val_accuracy: 0.0698\n",
      "Epoch 2/15\n",
      "11/11 [==============================] - 15s 1s/step - loss: 0.4544 - accuracy: 0.7813 - val_loss: 2.0973 - val_accuracy: 0.0233\n",
      "Epoch 3/15\n",
      "11/11 [==============================] - 14s 1s/step - loss: 0.4420 - accuracy: 0.7813 - val_loss: 1.1484 - val_accuracy: 0.1395\n",
      "Epoch 4/15\n",
      "11/11 [==============================] - 14s 1s/step - loss: 0.3710 - accuracy: 0.8251 - val_loss: 1.1356 - val_accuracy: 0.2209\n",
      "Epoch 5/15\n",
      "11/11 [==============================] - 14s 1s/step - loss: 0.2948 - accuracy: 0.8630 - val_loss: 1.4176 - val_accuracy: 0.2674\n",
      "Epoch 6/15\n",
      "11/11 [==============================] - 14s 1s/step - loss: 0.2277 - accuracy: 0.8921 - val_loss: 1.1259 - val_accuracy: 0.5116\n",
      "Epoch 7/15\n",
      "11/11 [==============================] - 15s 1s/step - loss: 0.1823 - accuracy: 0.9155 - val_loss: 1.7717 - val_accuracy: 0.3140\n",
      "Epoch 8/15\n",
      "11/11 [==============================] - 13s 1s/step - loss: 0.2062 - accuracy: 0.9388 - val_loss: 0.7881 - val_accuracy: 0.6744\n",
      "Epoch 9/15\n",
      "11/11 [==============================] - 14s 1s/step - loss: 0.1502 - accuracy: 0.9388 - val_loss: 1.5197 - val_accuracy: 0.5349\n",
      "Epoch 10/15\n",
      "11/11 [==============================] - 14s 1s/step - loss: 0.1397 - accuracy: 0.9708 - val_loss: 1.5921 - val_accuracy: 0.4884\n",
      "Epoch 11/15\n",
      "11/11 [==============================] - 15s 1s/step - loss: 0.1192 - accuracy: 0.9504 - val_loss: 1.2825 - val_accuracy: 0.5349\n",
      "Epoch 12/15\n",
      "11/11 [==============================] - 14s 1s/step - loss: 0.0749 - accuracy: 0.9708 - val_loss: 2.4887 - val_accuracy: 0.5116\n",
      "Epoch 13/15\n",
      "11/11 [==============================] - 14s 1s/step - loss: 0.0347 - accuracy: 0.9913 - val_loss: 3.1806 - val_accuracy: 0.4419\n",
      "14/14 [==============================] - 5s 384ms/step - loss: 0.6554 - accuracy: 0.8858\n",
      "Test accuracy:  0.8857808709144592\n"
     ]
    }
   ],
   "source": [
    "import tensorflow as tf\n",
    "from tensorflow import keras\n",
    "\n",
    "# Build the model using a Convolutional Neural Network\n",
    "model = keras.Sequential([\n",
    "    keras.layers.Conv2D(32, (3,3), activation='relu', input_shape=(224,224,3)),\n",
    "    keras.layers.MaxPooling2D(2,2),\n",
    "    \n",
    "    keras.layers.Conv2D(64, (3,3), activation='relu'),\n",
    "    keras.layers.MaxPooling2D(2,2),\n",
    "    \n",
    "    keras.layers.Conv2D(128, (3,3), activation='relu'),\n",
    "    keras.layers.MaxPooling2D(2,2),\n",
    "    \n",
    "    keras.layers.Flatten(),\n",
    "    keras.layers.Dense(128, activation='relu'),\n",
    "    keras.layers.Dense(3, activation='softmax')\n",
    "])\n",
    "\n",
    "# set an early stopping mechanism\n",
    "# let's set patience=2, to be a bit tolerant against random validation loss increases\n",
    "early_stopping = tf.keras.callbacks.EarlyStopping(patience=5)\n",
    "\n",
    "# Compile the model\n",
    "model.compile(optimizer='adam', loss='categorical_crossentropy', metrics=['accuracy'])\n",
    "\n",
    "# Train the model\n",
    "# history = model.fit(data, labels_one_hot, batch_size=32, epochs=10, validation_split=0.2)\n",
    "history = model.fit(data,\n",
    "                    labels_one_hot,\n",
    "                    batch_size=32,\n",
    "                    epochs=15,\n",
    "                    validation_split=0.2,\n",
    "                    callbacks=[early_stopping])\n",
    "\n",
    "# Evaluate the model\n",
    "test_loss, test_acc = model.evaluate(data, labels_one_hot)\n",
    "print(\"Test accuracy: \", test_acc)"
   ]
  },
  {
   "cell_type": "code",
   "execution_count": 5,
   "id": "198ea61d",
   "metadata": {},
   "outputs": [
    {
     "data": {
      "image/png": "[encoded data removed]",
      "text/plain": [
       "<Figure size 432x288 with 1 Axes>"
      ]
     },
     "metadata": {
      "needs_background": "light"
     },
     "output_type": "display_data"
    }
   ],
   "source": [
    "import matplotlib.pyplot as plt\n",
    "\n",
    "# Plot the accuracy history\n",
    "plt.plot(history.history['accuracy'])\n",
    "plt.title('Model Accuracy')\n",
    "plt.ylabel('Accuracy')\n",
    "plt.xlabel('Epoch')\n",
    "plt.legend(['Train'], loc='upper left')\n",
    "plt.show()"
   ]
  },
  {
   "cell_type": "markdown",
   "id": "8a1d9591",
   "metadata": {},
   "source": [
    "<a id='note'></a>\n",
    "# Note\n",
    "#### Improving a machine learning model can be achieved by using various techniques such as:\n",
    "\n",
    "1. **Feature Engineering**: Adding or modifying the features used in the model to better capture the underlying patterns in the data.\n",
    "\n",
    "2. **Model Selection**: Choosing a different machine learning model that is more suitable for the data and the problem being solved.\n",
    "\n",
    "3. **Hyperparameter Tuning**: Adjusting the parameters of the machine learning model to improve its performance. This can be done manually or using techniques such as grid search or random search.\n",
    "\n",
    "4. **Ensemble Methods**: Combining multiple models to create a more robust model. This can be done by averaging the predictions of multiple models or by training a separate model to make predictions based on the outputs of other models.\n",
    "\n",
    "5. **Regularization**: Adding a penalty term to the loss function to prevent overfitting and improve generalization.\n",
    "\n",
    "6. **Data Augmentation**: Increasing the size of the dataset by generating new data samples based on the original data. This can help to prevent overfitting and improve generalization.\n",
    "\n",
    "7. **Early Stopping**: Stopping the training process when the model's performance on the validation set starts to deteriorate. This can prevent overfitting and help to avoid the use of models that are too complex.\n",
    "\n",
    "8. **Transfer Learning**: Reusing pre-trained models to reduce the time and computational resources required to train a new model."
   ]
  },
  {
   "cell_type": "markdown",
   "id": "a65324fd",
   "metadata": {},
   "source": [
    "# [Back to top](#back_to_top)"
   ]
  },
  {
   "cell_type": "code",
   "execution_count": null,
   "id": "fad18071",
   "metadata": {},
   "outputs": [],
   "source": []
  }
 ],
 "metadata": {
  "kernelspec": {
   "display_name": "Python 3",
   "language": "python",
   "name": "python3"
  },
  "language_info": {
   "codemirror_mode": {
    "name": "ipython",
    "version": 3
   },
   "file_extension": ".py",
   "mimetype": "text/x-python",
   "name": "python",
   "nbconvert_exporter": "python",
   "pygments_lexer": "ipython3",
   "version": "3.8.8"
  }
 },
 "nbformat": 4,
 "nbformat_minor": 5
}
